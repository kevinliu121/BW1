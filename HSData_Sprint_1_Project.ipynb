{
  "nbformat": 4,
  "nbformat_minor": 0,
  "metadata": {
    "colab": {
      "name": "HSData Sprint 1 Project.ipynb",
      "provenance": [],
      "collapsed_sections": [],
      "include_colab_link": true
    },
    "kernelspec": {
      "name": "python3",
      "display_name": "Python 3"
    }
  },
  "cells": [
    {
      "cell_type": "markdown",
      "metadata": {
        "id": "view-in-github",
        "colab_type": "text"
      },
      "source": [
        "<a href=\"https://colab.research.google.com/github/kevinliu121/BW1/blob/master/HSData_Sprint_1_Project.ipynb\" target=\"_parent\"><img src=\"https://colab.research.google.com/assets/colab-badge.svg\" alt=\"Open In Colab\"/></a>"
      ]
    },
    {
      "cell_type": "code",
      "metadata": {
        "id": "GruzEaOJLqWk",
        "colab_type": "code",
        "colab": {}
      },
      "source": [
        "import pandas as pd\n",
        "import matplotlib\n",
        "import matplotlib.pyplot as plt\n",
        "import numpy as np\n",
        "import seaborn as sns\n"
      ],
      "execution_count": 0,
      "outputs": []
    },
    {
      "cell_type": "code",
      "metadata": {
        "id": "9TAJL5PDGorO",
        "colab_type": "code",
        "outputId": "a385df24-c99f-4cf5-9f25-3bfa44e31254",
        "colab": {
          "base_uri": "https://localhost:8080/",
          "height": 204
        }
      },
      "source": [
        "!wget https://raw.githubusercontent.com/kevinliu121/BW1/master/HSDat.csv"
      ],
      "execution_count": 0,
      "outputs": [
        {
          "output_type": "stream",
          "text": [
            "--2019-11-22 18:18:44--  https://raw.githubusercontent.com/kevinliu121/BW1/master/HSDat.csv\n",
            "Resolving raw.githubusercontent.com (raw.githubusercontent.com)... 151.101.0.133, 151.101.64.133, 151.101.128.133, ...\n",
            "Connecting to raw.githubusercontent.com (raw.githubusercontent.com)|151.101.0.133|:443... connected.\n",
            "HTTP request sent, awaiting response... 200 OK\n",
            "Length: 3267 (3.2K) [text/plain]\n",
            "Saving to: ‘HSDat.csv’\n",
            "\n",
            "\rHSDat.csv             0%[                    ]       0  --.-KB/s               \rHSDat.csv           100%[===================>]   3.19K  --.-KB/s    in 0s      \n",
            "\n",
            "2019-11-22 18:18:44 (69.4 MB/s) - ‘HSDat.csv’ saved [3267/3267]\n",
            "\n"
          ],
          "name": "stdout"
        }
      ]
    },
    {
      "cell_type": "markdown",
      "metadata": {
        "id": "v7mMGOGfbIpR",
        "colab_type": "text"
      },
      "source": [
        "# **Hypothesis**"
      ]
    },
    {
      "cell_type": "markdown",
      "metadata": {
        "id": "9t1WBfFxC29J",
        "colab_type": "text"
      },
      "source": [
        "**My hypothesis is that my deck overall will have a positive winrate past turn 10, as well as have a positive winrate against aggro decks, but a lower winrate against deathrattle decks. I also hypothesize that I will lose out to Druids the most, because in general they are the dominant class, and finally my winrate with the ideal starting hand will win more in the late game than in the earlier game**"
      ]
    },
    {
      "cell_type": "code",
      "metadata": {
        "id": "WjgDa8Q6C3Ny",
        "colab_type": "code",
        "colab": {}
      },
      "source": [
        ""
      ],
      "execution_count": 0,
      "outputs": []
    },
    {
      "cell_type": "markdown",
      "metadata": {
        "id": "KpgxYH2mAvHv",
        "colab_type": "text"
      },
      "source": [
        "# **LEGEND**\n",
        "\n",
        "starting_hand : How many of the ideal cards I received in my starting hand.\n",
        "\n",
        "---\n",
        "\n",
        "good_start: If I recieved all my ideal cards reads Y, if not reads N\n",
        "\n",
        "\n",
        "---\n",
        "mulliganed: Reads out 1 or 0, for if I had mulliganed my hand\n",
        "\n",
        "\n",
        "---\n",
        "W/L: Dictates wether or not I had won or lost the game\n",
        "\n",
        "---\n",
        "\n",
        "Turns: Dictates reads how many turns had passed\n",
        "\n",
        "---\n",
        "\n",
        "Opponents class: 0 = Druid, 1 = Hunter, 2 = Mage, 3 = Paladin, 4 = Priest, 5 = Rogue, 6 = Shaman, 7 = Warlock, 8 = Warrior\n",
        "\n",
        "\n",
        "---\n",
        "\n",
        "Opponents Archetype: 0 = Aggro, 1 = Control, 2 = Midrange, 3 = Token/Lackey, 4 = Combo/OTK, 5 = Zoo, 6 = Tempo, 7 = Ramp, 8 = Even, 9 = Odd, 10 = Mech, 11 = Deathrattle, 12 = Quest\n",
        "\n",
        "\n",
        "\n",
        "\n"
      ]
    },
    {
      "cell_type": "code",
      "metadata": {
        "id": "vyGMibzCL8SF",
        "colab_type": "code",
        "outputId": "442aff68-479c-44fa-8585-932c6aa70135",
        "colab": {
          "base_uri": "https://localhost:8080/",
          "height": 419
        }
      },
      "source": [
        "hsdat = pd.read_csv('HSDat.csv')\n",
        "hsdat"
      ],
      "execution_count": 0,
      "outputs": [
        {
          "output_type": "execute_result",
          "data": {
            "text/html": [
              "<div>\n",
              "<style scoped>\n",
              "    .dataframe tbody tr th:only-of-type {\n",
              "        vertical-align: middle;\n",
              "    }\n",
              "\n",
              "    .dataframe tbody tr th {\n",
              "        vertical-align: top;\n",
              "    }\n",
              "\n",
              "    .dataframe thead th {\n",
              "        text-align: right;\n",
              "    }\n",
              "</style>\n",
              "<table border=\"1\" class=\"dataframe\">\n",
              "  <thead>\n",
              "    <tr style=\"text-align: right;\">\n",
              "      <th></th>\n",
              "      <th>starting_hand</th>\n",
              "      <th>good_start</th>\n",
              "      <th>mulliganed</th>\n",
              "      <th>W/L</th>\n",
              "      <th>Turns</th>\n",
              "      <th>opponent_class</th>\n",
              "      <th>opponent_deck_archetype</th>\n",
              "    </tr>\n",
              "  </thead>\n",
              "  <tbody>\n",
              "    <tr>\n",
              "      <th>0</th>\n",
              "      <td>1</td>\n",
              "      <td>N</td>\n",
              "      <td>1</td>\n",
              "      <td>0</td>\n",
              "      <td>16</td>\n",
              "      <td>3</td>\n",
              "      <td>4</td>\n",
              "    </tr>\n",
              "    <tr>\n",
              "      <th>1</th>\n",
              "      <td>0</td>\n",
              "      <td>N</td>\n",
              "      <td>1</td>\n",
              "      <td>1</td>\n",
              "      <td>15</td>\n",
              "      <td>5</td>\n",
              "      <td>0</td>\n",
              "    </tr>\n",
              "    <tr>\n",
              "      <th>2</th>\n",
              "      <td>3</td>\n",
              "      <td>Y</td>\n",
              "      <td>0</td>\n",
              "      <td>0</td>\n",
              "      <td>13</td>\n",
              "      <td>0</td>\n",
              "      <td>7</td>\n",
              "    </tr>\n",
              "    <tr>\n",
              "      <th>3</th>\n",
              "      <td>1</td>\n",
              "      <td>N</td>\n",
              "      <td>1</td>\n",
              "      <td>0</td>\n",
              "      <td>9</td>\n",
              "      <td>2</td>\n",
              "      <td>12</td>\n",
              "    </tr>\n",
              "    <tr>\n",
              "      <th>4</th>\n",
              "      <td>2</td>\n",
              "      <td>N</td>\n",
              "      <td>1</td>\n",
              "      <td>1</td>\n",
              "      <td>8</td>\n",
              "      <td>8</td>\n",
              "      <td>1</td>\n",
              "    </tr>\n",
              "    <tr>\n",
              "      <th>...</th>\n",
              "      <td>...</td>\n",
              "      <td>...</td>\n",
              "      <td>...</td>\n",
              "      <td>...</td>\n",
              "      <td>...</td>\n",
              "      <td>...</td>\n",
              "      <td>...</td>\n",
              "    </tr>\n",
              "    <tr>\n",
              "      <th>194</th>\n",
              "      <td>2</td>\n",
              "      <td>N</td>\n",
              "      <td>1</td>\n",
              "      <td>1</td>\n",
              "      <td>15</td>\n",
              "      <td>7</td>\n",
              "      <td>1</td>\n",
              "    </tr>\n",
              "    <tr>\n",
              "      <th>195</th>\n",
              "      <td>0</td>\n",
              "      <td>N</td>\n",
              "      <td>1</td>\n",
              "      <td>1</td>\n",
              "      <td>15</td>\n",
              "      <td>2</td>\n",
              "      <td>1</td>\n",
              "    </tr>\n",
              "    <tr>\n",
              "      <th>196</th>\n",
              "      <td>3</td>\n",
              "      <td>Y</td>\n",
              "      <td>1</td>\n",
              "      <td>1</td>\n",
              "      <td>11</td>\n",
              "      <td>5</td>\n",
              "      <td>3</td>\n",
              "    </tr>\n",
              "    <tr>\n",
              "      <th>197</th>\n",
              "      <td>3</td>\n",
              "      <td>Y</td>\n",
              "      <td>0</td>\n",
              "      <td>1</td>\n",
              "      <td>12</td>\n",
              "      <td>4</td>\n",
              "      <td>12</td>\n",
              "    </tr>\n",
              "    <tr>\n",
              "      <th>198</th>\n",
              "      <td>3</td>\n",
              "      <td>Y</td>\n",
              "      <td>1</td>\n",
              "      <td>0</td>\n",
              "      <td>16</td>\n",
              "      <td>7</td>\n",
              "      <td>5</td>\n",
              "    </tr>\n",
              "  </tbody>\n",
              "</table>\n",
              "<p>199 rows × 7 columns</p>\n",
              "</div>"
            ],
            "text/plain": [
              "     starting_hand good_start  ...  opponent_class  opponent_deck_archetype\n",
              "0                1          N  ...               3                        4\n",
              "1                0          N  ...               5                        0\n",
              "2                3          Y  ...               0                        7\n",
              "3                1          N  ...               2                       12\n",
              "4                2          N  ...               8                        1\n",
              "..             ...        ...  ...             ...                      ...\n",
              "194              2          N  ...               7                        1\n",
              "195              0          N  ...               2                        1\n",
              "196              3          Y  ...               5                        3\n",
              "197              3          Y  ...               4                       12\n",
              "198              3          Y  ...               7                        5\n",
              "\n",
              "[199 rows x 7 columns]"
            ]
          },
          "metadata": {
            "tags": []
          },
          "execution_count": 3
        }
      ]
    },
    {
      "cell_type": "markdown",
      "metadata": {
        "id": "cqoLzHjBu0ah",
        "colab_type": "text"
      },
      "source": [
        "# Win Percentage\n",
        "The most basic and important thing I want to know is how well my deck did overall. A technical deck that is only good against certain decks is only truly\n",
        "viable in a constructed tournament format, however this is for casual gameplay so truly overall winrate is the most important thing. "
      ]
    },
    {
      "cell_type": "code",
      "metadata": {
        "id": "bJFlJsOKsAvJ",
        "colab_type": "code",
        "colab": {}
      },
      "source": [
        ""
      ],
      "execution_count": 0,
      "outputs": []
    },
    {
      "cell_type": "code",
      "metadata": {
        "id": "9Dhu4kANObGT",
        "colab_type": "code",
        "outputId": "199bd7fe-0c2e-4cd3-c481-679118ac0e6b",
        "colab": {
          "base_uri": "https://localhost:8080/",
          "height": 68
        }
      },
      "source": [
        "### Overall Percentage of Wins vs Losses\n",
        "hsdat['W/L'].value_counts(normalize=True) * 100"
      ],
      "execution_count": 0,
      "outputs": [
        {
          "output_type": "execute_result",
          "data": {
            "text/plain": [
              "1    53.768844\n",
              "0    46.231156\n",
              "Name: W/L, dtype: float64"
            ]
          },
          "metadata": {
            "tags": []
          },
          "execution_count": 4
        }
      ]
    },
    {
      "cell_type": "code",
      "metadata": {
        "id": "1ewlAYFgjzed",
        "colab_type": "code",
        "colab": {}
      },
      "source": [
        ""
      ],
      "execution_count": 0,
      "outputs": []
    },
    {
      "cell_type": "markdown",
      "metadata": {
        "id": "HY0Wgf7CMotr",
        "colab_type": "text"
      },
      "source": [
        "## The biggest question is winrate with my main ideal starting hand.\n",
        "\n",
        "This is something I want to keep track of because I want to know if I am mulliganing properly or if I should change my ideal starting hand.\n",
        "\n",
        "My ideal starting hand includes:\n",
        "\n",
        "![alt text](https://gamepedia.cursecdn.com/hearthstone_gamepedia/thumb/7/76/Naga_Sand_Witch%2890820%29.png/200px-Naga_Sand_Witch%2890820%29.png?version=ca9cfb5b015516e583ffe5bbe2459791)\n",
        "![alt text](https://gamepedia.cursecdn.com/hearthstone_gamepedia/thumb/a/af/Puzzle_Box_of_Yogg-Saron%2890692%29.png/200px-Puzzle_Box_of_Yogg-Saron%2890692%29.png?version=a3609058a4d5870bd3dd004101c8410a)\n",
        "![alt text](https://gamepedia.cursecdn.com/hearthstone_gamepedia/thumb/5/5e/Luna%27s_Pocket_Galaxy%2889888%29.png/200px-Luna%27s_Pocket_Galaxy%2889888%29.png?version=e58077606e35980b1d7d9d491d9f25a4)"
      ]
    },
    {
      "cell_type": "code",
      "metadata": {
        "id": "Bgcb2hixqG2z",
        "colab_type": "code",
        "outputId": "ab672b24-e9e4-450a-ed21-c52e12a07481",
        "colab": {
          "base_uri": "https://localhost:8080/",
          "height": 68
        }
      },
      "source": [
        "good_hand = hsdat[hsdat.good_start == 'Y']\n",
        "good_hand['W/L'].value_counts(normalize=True) * 100"
      ],
      "execution_count": 0,
      "outputs": [
        {
          "output_type": "execute_result",
          "data": {
            "text/plain": [
              "1    58.823529\n",
              "0    41.176471\n",
              "Name: W/L, dtype: float64"
            ]
          },
          "metadata": {
            "tags": []
          },
          "execution_count": 5
        }
      ]
    },
    {
      "cell_type": "code",
      "metadata": {
        "id": "NzpSVVf-Vq8u",
        "colab_type": "code",
        "outputId": "c0f021f2-3deb-4c98-89eb-e03e130d2bad",
        "colab": {
          "base_uri": "https://localhost:8080/",
          "height": 68
        }
      },
      "source": [
        "bad_hand = hsdat[hsdat.good_start == 'N']\n",
        "bad_hand['W/L'].value_counts(normalize=True) * 100"
      ],
      "execution_count": 0,
      "outputs": [
        {
          "output_type": "execute_result",
          "data": {
            "text/plain": [
              "1    52.727273\n",
              "0    47.272727\n",
              "Name: W/L, dtype: float64"
            ]
          },
          "metadata": {
            "tags": []
          },
          "execution_count": 6
        }
      ]
    },
    {
      "cell_type": "markdown",
      "metadata": {
        "id": "2Cede1bmsCa5",
        "colab_type": "text"
      },
      "source": [
        "**A key thing that I've figured out is that my deck worked well in my tests. I've had positive winrates overall against each class, but I am curious if there is a specific kind of ARCHETYPE I lose again**"
      ]
    },
    {
      "cell_type": "code",
      "metadata": {
        "id": "vZBp4J9Vaj83",
        "colab_type": "code",
        "colab": {}
      },
      "source": [
        ""
      ],
      "execution_count": 0,
      "outputs": []
    },
    {
      "cell_type": "code",
      "metadata": {
        "id": "OWfrEc-hkHcX",
        "colab_type": "code",
        "outputId": "ef498540-4cd5-47b8-be4a-8ad7578c9616",
        "colab": {
          "base_uri": "https://localhost:8080/",
          "height": 238
        }
      },
      "source": [
        "pd.value_counts(hsdat['opponent_deck_archetype'].values, sort=False)"
      ],
      "execution_count": 0,
      "outputs": [
        {
          "output_type": "execute_result",
          "data": {
            "text/plain": [
              "0     45\n",
              "1     39\n",
              "2      4\n",
              "3      8\n",
              "4     12\n",
              "5      4\n",
              "6     11\n",
              "7     13\n",
              "8      2\n",
              "10    10\n",
              "11    12\n",
              "12    39\n",
              "dtype: int64"
            ]
          },
          "metadata": {
            "tags": []
          },
          "execution_count": 7
        }
      ]
    },
    {
      "cell_type": "markdown",
      "metadata": {
        "id": "9uuOzQdQakLD",
        "colab_type": "text"
      },
      "source": [
        "# General Winrates"
      ]
    },
    {
      "cell_type": "code",
      "metadata": {
        "id": "GR-l59n-mc5I",
        "colab_type": "code",
        "outputId": "5a31c82e-3048-4932-9369-9d919a4016d8",
        "colab": {
          "base_uri": "https://localhost:8080/",
          "height": 297
        }
      },
      "source": [
        "labels = ['Druid', 'Mage', 'War', 'Warlock', 'Pal', 'Sham', 'Hunt',\n",
        "          'Rogue', 'Priest']\n",
        "good_means = [52, 54.2, 54.5, 55.5, 56.3, 58.8, 64, 65, 68]\n",
        "\n",
        "\n",
        "x = np.arange(len(labels))  # the label locations\n",
        "width = 0.5  # the width of the bars\n",
        "\n",
        "\n",
        "fig, ax = plt.subplots()\n",
        "rects1 = ax.bar(x , good_means, width, label='Classes')\n",
        "\n",
        "\n",
        "\n",
        "ax.set_ylabel('Percentage')\n",
        "ax.set_title('Winrates based on classes')\n",
        "plt.bar(x, good_means, color=['#4f2e17', 'cyan', 'red', 'purple', 'yellow',\n",
        "                             'blue', 'green', 'black', 'white'], edgecolor =\n",
        "        'black')\n",
        "ax.set_xticks(x)\n",
        "ax.set_xticklabels(labels)\n",
        "ax.set_ylim([0,100])\n",
        "\n",
        "\n",
        "def autolabel(rects):\n",
        "    \"\"\"Attach a text label above each bar in *rects*, displaying its height.\"\"\"\n",
        "    for rect in rects:\n",
        "        height = rect.get_height()\n",
        "        ax.annotate('{}'.format(height),\n",
        "                    xy=(rect.get_x() + rect.get_width() / 2, height),\n",
        "                    xytext=(0, 8),\n",
        "                    textcoords=\"offset points\",\n",
        "                    ha='center', va='bottom')\n",
        "\n",
        "\n",
        "autolabel(rects1)\n",
        "\n",
        "\n",
        "fig.tight_layout()\n",
        "\n",
        "plt.show()"
      ],
      "execution_count": 0,
      "outputs": [
        {
          "output_type": "display_data",
          "data": {
            "image/png": "[encoded data removed]",
            "text/plain": [
              "<Figure size 432x288 with 1 Axes>"
            ]
          },
          "metadata": {
            "tags": []
          }
        }
      ]
    },
    {
      "cell_type": "markdown",
      "metadata": {
        "id": "A5_rw6Fjs0P6",
        "colab_type": "text"
      },
      "source": [
        "## General Druid Winrate - 52% - Worst Matchup\n",
        "According to my general winrate this class is what I struggled against the most. I wonder if there is specific cards that are being played that are countering my deck."
      ]
    },
    {
      "cell_type": "code",
      "metadata": {
        "id": "EkaL1oXWqesx",
        "colab_type": "code",
        "outputId": "d11fa464-c1b2-4510-f18e-36289261ac42",
        "colab": {
          "base_uri": "https://localhost:8080/",
          "height": 68
        }
      },
      "source": [
        "druid = hsdat[hsdat.opponent_class == 0]\n",
        "druid['W/L'].value_counts(normalize=True) * 100\n",
        "\n"
      ],
      "execution_count": 0,
      "outputs": [
        {
          "output_type": "execute_result",
          "data": {
            "text/plain": [
              "1    52.173913\n",
              "0    47.826087\n",
              "Name: W/L, dtype: float64"
            ]
          },
          "metadata": {
            "tags": []
          },
          "execution_count": 9
        }
      ]
    },
    {
      "cell_type": "code",
      "metadata": {
        "id": "cKcm4VfQFAGD",
        "colab_type": "code",
        "colab": {}
      },
      "source": [
        ""
      ],
      "execution_count": 0,
      "outputs": []
    },
    {
      "cell_type": "markdown",
      "metadata": {
        "id": "wUqxApgps48x",
        "colab_type": "text"
      },
      "source": [
        "## General Hunter Winrate - 64%"
      ]
    },
    {
      "cell_type": "code",
      "metadata": {
        "id": "H2bBV8dnq5rh",
        "colab_type": "code",
        "outputId": "ba7f59ee-8461-4de1-93ad-b9a1e3352e01",
        "colab": {
          "base_uri": "https://localhost:8080/",
          "height": 68
        }
      },
      "source": [
        "hunter = hsdat[hsdat.opponent_class == 1]\n",
        "hunter['W/L'].value_counts(normalize=True) * 100"
      ],
      "execution_count": 0,
      "outputs": [
        {
          "output_type": "execute_result",
          "data": {
            "text/plain": [
              "1    64.285714\n",
              "0    35.714286\n",
              "Name: W/L, dtype: float64"
            ]
          },
          "metadata": {
            "tags": []
          },
          "execution_count": 10
        }
      ]
    },
    {
      "cell_type": "markdown",
      "metadata": {
        "id": "sBQlRuItEGsn",
        "colab_type": "text"
      },
      "source": [
        "## General Mage Winrate - 54.2%"
      ]
    },
    {
      "cell_type": "code",
      "metadata": {
        "id": "lid6d6bbq3Ar",
        "colab_type": "code",
        "outputId": "dba62de1-2220-482c-d753-2aaf8f4a034b",
        "colab": {
          "base_uri": "https://localhost:8080/",
          "height": 68
        }
      },
      "source": [
        "mage = hsdat[hsdat.opponent_class == 2]\n",
        "mage['W/L'].value_counts(normalize=True) * 100"
      ],
      "execution_count": 0,
      "outputs": [
        {
          "output_type": "execute_result",
          "data": {
            "text/plain": [
              "1    54.166667\n",
              "0    45.833333\n",
              "Name: W/L, dtype: float64"
            ]
          },
          "metadata": {
            "tags": []
          },
          "execution_count": 11
        }
      ]
    },
    {
      "cell_type": "markdown",
      "metadata": {
        "id": "BqbtgkntEIqv",
        "colab_type": "text"
      },
      "source": [
        "## General Paladin Winrate - 56.3% "
      ]
    },
    {
      "cell_type": "code",
      "metadata": {
        "id": "ojwsKquUrGDD",
        "colab_type": "code",
        "outputId": "019681ec-9535-42da-aba8-f3a0b346bcef",
        "colab": {
          "base_uri": "https://localhost:8080/",
          "height": 68
        }
      },
      "source": [
        "paladin = hsdat[hsdat.opponent_class == 3]\n",
        "paladin['W/L'].value_counts(normalize=True) * 100"
      ],
      "execution_count": 0,
      "outputs": [
        {
          "output_type": "execute_result",
          "data": {
            "text/plain": [
              "0    56.25\n",
              "1    43.75\n",
              "Name: W/L, dtype: float64"
            ]
          },
          "metadata": {
            "tags": []
          },
          "execution_count": 12
        }
      ]
    },
    {
      "cell_type": "markdown",
      "metadata": {
        "id": "jHEH315SEPQH",
        "colab_type": "text"
      },
      "source": [
        "## General Priest Winrate - 68% - BEST GENERAL MATCHUP"
      ]
    },
    {
      "cell_type": "code",
      "metadata": {
        "id": "8qjBm3XjrL7d",
        "colab_type": "code",
        "outputId": "32776d61-3d6d-4b65-84cd-ade49699c216",
        "colab": {
          "base_uri": "https://localhost:8080/",
          "height": 68
        }
      },
      "source": [
        "priest = hsdat[hsdat.opponent_class == 4]\n",
        "priest['W/L'].value_counts(normalize=True) * 100"
      ],
      "execution_count": 0,
      "outputs": [
        {
          "output_type": "execute_result",
          "data": {
            "text/plain": [
              "1    68.181818\n",
              "0    31.818182\n",
              "Name: W/L, dtype: float64"
            ]
          },
          "metadata": {
            "tags": []
          },
          "execution_count": 13
        }
      ]
    },
    {
      "cell_type": "markdown",
      "metadata": {
        "id": "aQTzp9d0ER9M",
        "colab_type": "text"
      },
      "source": [
        "## General Rogue Winrate - 65% "
      ]
    },
    {
      "cell_type": "code",
      "metadata": {
        "id": "-7efPfE0rmnE",
        "colab_type": "code",
        "outputId": "f75dc924-bd25-448f-8bbc-9a9ecbb1d5ae",
        "colab": {
          "base_uri": "https://localhost:8080/",
          "height": 68
        }
      },
      "source": [
        "rogue = hsdat[hsdat.opponent_class == 5]\n",
        "rogue['W/L'].value_counts(normalize=True) * 100"
      ],
      "execution_count": 0,
      "outputs": [
        {
          "output_type": "execute_result",
          "data": {
            "text/plain": [
              "1    65.0\n",
              "0    35.0\n",
              "Name: W/L, dtype: float64"
            ]
          },
          "metadata": {
            "tags": []
          },
          "execution_count": 14
        }
      ]
    },
    {
      "cell_type": "markdown",
      "metadata": {
        "id": "nhqk25EgEUhp",
        "colab_type": "text"
      },
      "source": [
        "## General Shaman Winrate - 58.8%"
      ]
    },
    {
      "cell_type": "code",
      "metadata": {
        "id": "WeAsQpUsrsZO",
        "colab_type": "code",
        "outputId": "0b773323-b082-42a4-e0e7-3e13d3e13035",
        "colab": {
          "base_uri": "https://localhost:8080/",
          "height": 68
        }
      },
      "source": [
        "shaman = hsdat[hsdat.opponent_class == 6]\n",
        "shaman['W/L'].value_counts(normalize=True) * 100"
      ],
      "execution_count": 0,
      "outputs": [
        {
          "output_type": "execute_result",
          "data": {
            "text/plain": [
              "0    58.823529\n",
              "1    41.176471\n",
              "Name: W/L, dtype: float64"
            ]
          },
          "metadata": {
            "tags": []
          },
          "execution_count": 15
        }
      ]
    },
    {
      "cell_type": "markdown",
      "metadata": {
        "id": "INJbqNIbEXan",
        "colab_type": "text"
      },
      "source": [
        "## General Warlock Winrate - 55.5%"
      ]
    },
    {
      "cell_type": "code",
      "metadata": {
        "id": "7rQ3dA4Wrw-j",
        "colab_type": "code",
        "outputId": "b0ce092e-6580-489f-99e2-6fd30aa50841",
        "colab": {
          "base_uri": "https://localhost:8080/",
          "height": 68
        }
      },
      "source": [
        "warlock = hsdat[hsdat.opponent_class == 7]\n",
        "warlock['W/L'].value_counts(normalize=True) * 100"
      ],
      "execution_count": 0,
      "outputs": [
        {
          "output_type": "execute_result",
          "data": {
            "text/plain": [
              "0    55.555556\n",
              "1    44.444444\n",
              "Name: W/L, dtype: float64"
            ]
          },
          "metadata": {
            "tags": []
          },
          "execution_count": 16
        }
      ]
    },
    {
      "cell_type": "markdown",
      "metadata": {
        "id": "hWiWqkjbEacg",
        "colab_type": "text"
      },
      "source": [
        "## General Warrior Winrate - 54.5%"
      ]
    },
    {
      "cell_type": "code",
      "metadata": {
        "id": "4WKu3BXTMLs8",
        "colab_type": "code",
        "colab": {}
      },
      "source": [
        ""
      ],
      "execution_count": 0,
      "outputs": []
    },
    {
      "cell_type": "code",
      "metadata": {
        "id": "KL6AcTjJr1SS",
        "colab_type": "code",
        "outputId": "3c6d826f-64d4-4249-e9fa-49f2a25fc02e",
        "colab": {
          "base_uri": "https://localhost:8080/",
          "height": 68
        }
      },
      "source": [
        "warrior= hsdat[hsdat.opponent_class == 8]\n",
        "warrior['W/L'].value_counts(normalize=True) * 100"
      ],
      "execution_count": 0,
      "outputs": [
        {
          "output_type": "execute_result",
          "data": {
            "text/plain": [
              "0    54.545455\n",
              "1    45.454545\n",
              "Name: W/L, dtype: float64"
            ]
          },
          "metadata": {
            "tags": []
          },
          "execution_count": 17
        }
      ]
    },
    {
      "cell_type": "markdown",
      "metadata": {
        "id": "m5EJ4hFLEZ-N",
        "colab_type": "text"
      },
      "source": [
        ""
      ]
    },
    {
      "cell_type": "markdown",
      "metadata": {
        "id": "0vPvZFz9FCMJ",
        "colab_type": "text"
      },
      "source": [
        "# META/Archetypes and it's importance."
      ]
    },
    {
      "cell_type": "markdown",
      "metadata": {
        "id": "Kmt7vMxiHiQv",
        "colab_type": "text"
      },
      "source": [
        "## A supposed META - What is it, and Why is it important?\n",
        "A clear thing that I realized after going through my data is that I can somewhat see the Meta of the current edition of the game. Meta in gaming should be written as META, as it is an acronym. META stands for \"Most Effective Tactics Available.\" In terms for Hearthstone, it's usually what is the most effective deck availiable for a class.\n",
        "\n",
        "\n",
        "---\n",
        "\n",
        "If we look at the distribution of all the classes we can find what is the most frequently played deck for each class, and furthermore infer why these decks are being played.\n",
        "\n"
      ]
    },
    {
      "cell_type": "code",
      "metadata": {
        "id": "evTMy0MSt0o7",
        "colab_type": "code",
        "outputId": "623c8fcd-34cd-4347-ee71-d61542751bfb",
        "colab": {
          "base_uri": "https://localhost:8080/",
          "height": 68
        }
      },
      "source": [
        "aggro = hsdat[hsdat.opponent_deck_archetype == 0]\n",
        "aggro['W/L'].value_counts(normalize=True) * 100"
      ],
      "execution_count": 0,
      "outputs": [
        {
          "output_type": "execute_result",
          "data": {
            "text/plain": [
              "1    62.222222\n",
              "0    37.777778\n",
              "Name: W/L, dtype: float64"
            ]
          },
          "metadata": {
            "tags": []
          },
          "execution_count": 18
        }
      ]
    },
    {
      "cell_type": "code",
      "metadata": {
        "id": "T7oDczgMuM_e",
        "colab_type": "code",
        "outputId": "d96afc6c-551e-47fa-cf03-ece516b2965e",
        "colab": {
          "base_uri": "https://localhost:8080/",
          "height": 68
        }
      },
      "source": [
        "control = hsdat[hsdat.opponent_deck_archetype == 1]\n",
        "control['W/L'].value_counts(normalize=True) * 100"
      ],
      "execution_count": 0,
      "outputs": [
        {
          "output_type": "execute_result",
          "data": {
            "text/plain": [
              "1    56.410256\n",
              "0    43.589744\n",
              "Name: W/L, dtype: float64"
            ]
          },
          "metadata": {
            "tags": []
          },
          "execution_count": 19
        }
      ]
    },
    {
      "cell_type": "code",
      "metadata": {
        "id": "oLq7RrbeubrU",
        "colab_type": "code",
        "outputId": "6b225087-c6d2-4707-ad09-9a94702e5274",
        "colab": {
          "base_uri": "https://localhost:8080/",
          "height": 68
        }
      },
      "source": [
        "midrange = hsdat[hsdat.opponent_deck_archetype == 2]\n",
        "midrange['W/L'].value_counts(normalize=True) * 100"
      ],
      "execution_count": 0,
      "outputs": [
        {
          "output_type": "execute_result",
          "data": {
            "text/plain": [
              "1    50.0\n",
              "0    50.0\n",
              "Name: W/L, dtype: float64"
            ]
          },
          "metadata": {
            "tags": []
          },
          "execution_count": 20
        }
      ]
    },
    {
      "cell_type": "code",
      "metadata": {
        "id": "6ZHawcsPuhIz",
        "colab_type": "code",
        "outputId": "d367867b-dd63-467f-98d8-88c7c5333427",
        "colab": {
          "base_uri": "https://localhost:8080/",
          "height": 68
        }
      },
      "source": [
        "token = hsdat[hsdat.opponent_deck_archetype == 3]\n",
        "token['W/L'].value_counts(normalize=True) * 100"
      ],
      "execution_count": 0,
      "outputs": [
        {
          "output_type": "execute_result",
          "data": {
            "text/plain": [
              "1    50.0\n",
              "0    50.0\n",
              "Name: W/L, dtype: float64"
            ]
          },
          "metadata": {
            "tags": []
          },
          "execution_count": 21
        }
      ]
    },
    {
      "cell_type": "code",
      "metadata": {
        "id": "A1uF6tzpul-w",
        "colab_type": "code",
        "outputId": "527bf324-39e3-4d14-ff66-6f361d2a7cfe",
        "colab": {
          "base_uri": "https://localhost:8080/",
          "height": 68
        }
      },
      "source": [
        "combo = hsdat[hsdat.opponent_deck_archetype == 4]\n",
        "combo['W/L'].value_counts(normalize=True) * 100"
      ],
      "execution_count": 0,
      "outputs": [
        {
          "output_type": "execute_result",
          "data": {
            "text/plain": [
              "0    58.333333\n",
              "1    41.666667\n",
              "Name: W/L, dtype: float64"
            ]
          },
          "metadata": {
            "tags": []
          },
          "execution_count": 22
        }
      ]
    },
    {
      "cell_type": "code",
      "metadata": {
        "id": "ZjgnCp63uspJ",
        "colab_type": "code",
        "outputId": "2422c237-e663-408e-f2ff-376e0c885b27",
        "colab": {
          "base_uri": "https://localhost:8080/",
          "height": 68
        }
      },
      "source": [
        "Zoo = hsdat[hsdat.opponent_deck_archetype == 5]\n",
        "Zoo['W/L'].value_counts(normalize=True) * 100"
      ],
      "execution_count": 0,
      "outputs": [
        {
          "output_type": "execute_result",
          "data": {
            "text/plain": [
              "1    75.0\n",
              "0    25.0\n",
              "Name: W/L, dtype: float64"
            ]
          },
          "metadata": {
            "tags": []
          },
          "execution_count": 23
        }
      ]
    },
    {
      "cell_type": "code",
      "metadata": {
        "id": "ojjoZOk7uxkg",
        "colab_type": "code",
        "outputId": "027d5d86-ab56-43df-d361-219f81f7d20b",
        "colab": {
          "base_uri": "https://localhost:8080/",
          "height": 68
        }
      },
      "source": [
        "tempo = hsdat[hsdat.opponent_deck_archetype == 6]\n",
        "tempo['W/L'].value_counts(normalize=True) * 100"
      ],
      "execution_count": 0,
      "outputs": [
        {
          "output_type": "execute_result",
          "data": {
            "text/plain": [
              "0    63.636364\n",
              "1    36.363636\n",
              "Name: W/L, dtype: float64"
            ]
          },
          "metadata": {
            "tags": []
          },
          "execution_count": 24
        }
      ]
    },
    {
      "cell_type": "code",
      "metadata": {
        "id": "Odq9sVJDu1NC",
        "colab_type": "code",
        "outputId": "d5bb0138-758f-4173-e95e-5bc779206bb7",
        "colab": {
          "base_uri": "https://localhost:8080/",
          "height": 34
        }
      },
      "source": [
        "ramp = hsdat[hsdat.opponent_deck_archetype == 9]\n",
        "ramp['W/L'].value_counts(normalize=True) * 100"
      ],
      "execution_count": 0,
      "outputs": [
        {
          "output_type": "execute_result",
          "data": {
            "text/plain": [
              "Series([], Name: W/L, dtype: float64)"
            ]
          },
          "metadata": {
            "tags": []
          },
          "execution_count": 25
        }
      ]
    },
    {
      "cell_type": "code",
      "metadata": {
        "id": "X7thS27Eu6tL",
        "colab_type": "code",
        "outputId": "50a30cde-eb34-4a5d-c8ec-a4fbd0e894d4",
        "colab": {
          "base_uri": "https://localhost:8080/",
          "height": 51
        }
      },
      "source": [
        "even = hsdat[hsdat.opponent_deck_archetype == 8]\n",
        "even['W/L'].value_counts(normalize=True) * 100"
      ],
      "execution_count": 0,
      "outputs": [
        {
          "output_type": "execute_result",
          "data": {
            "text/plain": [
              "1    100.0\n",
              "Name: W/L, dtype: float64"
            ]
          },
          "metadata": {
            "tags": []
          },
          "execution_count": 26
        }
      ]
    },
    {
      "cell_type": "code",
      "metadata": {
        "id": "-Uka_YB8vDym",
        "colab_type": "code",
        "outputId": "26aed0c7-9ab7-4410-b551-c2a7dfc681a1",
        "colab": {
          "base_uri": "https://localhost:8080/",
          "height": 68
        }
      },
      "source": [
        "mech = hsdat[hsdat.opponent_deck_archetype == 10]\n",
        "mech['W/L'].value_counts(normalize=True) * 100"
      ],
      "execution_count": 0,
      "outputs": [
        {
          "output_type": "execute_result",
          "data": {
            "text/plain": [
              "0    60.0\n",
              "1    40.0\n",
              "Name: W/L, dtype: float64"
            ]
          },
          "metadata": {
            "tags": []
          },
          "execution_count": 27
        }
      ]
    },
    {
      "cell_type": "code",
      "metadata": {
        "id": "l4rFtab0uTO8",
        "colab_type": "code",
        "outputId": "b6b4080a-2819-4edd-ad1e-e7d592c019e2",
        "colab": {
          "base_uri": "https://localhost:8080/",
          "height": 68
        }
      },
      "source": [
        "deathrattle = hsdat[hsdat.opponent_deck_archetype == 11]\n",
        "deathrattle['W/L'].value_counts(normalize=True) * 100"
      ],
      "execution_count": 0,
      "outputs": [
        {
          "output_type": "execute_result",
          "data": {
            "text/plain": [
              "0    58.333333\n",
              "1    41.666667\n",
              "Name: W/L, dtype: float64"
            ]
          },
          "metadata": {
            "tags": []
          },
          "execution_count": 28
        }
      ]
    },
    {
      "cell_type": "code",
      "metadata": {
        "id": "8iDRJF6WvPsp",
        "colab_type": "code",
        "outputId": "d8d09b0f-8ee8-4077-e357-9dae93bc1200",
        "colab": {
          "base_uri": "https://localhost:8080/",
          "height": 68
        }
      },
      "source": [
        "quest = hsdat[hsdat.opponent_deck_archetype == 12]\n",
        "quest['W/L'].value_counts(normalize=True) * 100"
      ],
      "execution_count": 0,
      "outputs": [
        {
          "output_type": "execute_result",
          "data": {
            "text/plain": [
              "1    53.846154\n",
              "0    46.153846\n",
              "Name: W/L, dtype: float64"
            ]
          },
          "metadata": {
            "tags": []
          },
          "execution_count": 29
        }
      ]
    },
    {
      "cell_type": "markdown",
      "metadata": {
        "id": "gDhBISJewJOY",
        "colab_type": "text"
      },
      "source": [
        "# graph for achetypes"
      ]
    },
    {
      "cell_type": "code",
      "metadata": {
        "id": "xcP2nCMRwIGk",
        "colab_type": "code",
        "outputId": "ade4d06c-ec46-4428-fd79-23b92269ee37",
        "colab": {
          "base_uri": "https://localhost:8080/",
          "height": 297
        }
      },
      "source": [
        "labels = ['Aggro', 'Control', 'Midrange', 'Token\\Lackey', 'Combo\\OTK','Zoo', \n",
        "          'Tempo', 'Ramp', 'Even', 'Mech', 'Deathrattle', 'Quest']\n",
        "good_means = [62.2, 56.4, 50, 50, 58.3, 75, 63.6, 53.8, 100, 60, 58, 53]\n",
        "values = [45, 39, 4, 8, 12, 4, 11, 13, 2, 10, 12, 39 ]\n",
        "\n",
        "x = np.arange(len(labels))  # the label locations\n",
        "width = 0.35  # the width of the bars\n",
        "\n",
        "\n",
        "fig, ax = plt.subplots()\n",
        "rects1 = ax.bar(x - width/2, good_means, width, label='winrate %')\n",
        "rects2 = ax.bar(x + width/2, values, width, label='value count')\n",
        "\n",
        "\n",
        "\n",
        "ax.set_ylabel('')\n",
        "ax.set_title('Winrate against archetypes with value count')\n",
        "ax.set_xticks(x)\n",
        "ax.set_xticklabels(labels, rotation=90)\n",
        "ax.legend()\n",
        "ax.set_ylim([0,119])\n",
        "plt.tick_params(axis='x', which='labels', labelsize=0.3)\n",
        "def autolabel(rects):\n",
        "    \"\"\"Attach a text label above each bar in *rects*, displaying its height.\"\"\"\n",
        "    for rect in rects:\n",
        "        height = rect.get_height()\n",
        "        ax.annotate('{}'.format(height),\n",
        "                    xy=(rect.get_x() + rect.get_width() / 2, height),\n",
        "                    xytext=(0, 11),\n",
        "                    textcoords=\"offset points\",\n",
        "                    ha='center', va='bottom')\n",
        "        \n",
        "autolabel(rects1)\n",
        "autolabel(rects2)\n",
        "\n",
        "\n",
        "plt.tight_layout()"
      ],
      "execution_count": 0,
      "outputs": [
        {
          "output_type": "display_data",
          "data": {
            "image/png": "[encoded data removed]",
            "text/plain": [
              "<Figure size 432x288 with 1 Axes>"
            ]
          },
          "metadata": {
            "tags": []
          }
        }
      ]
    },
    {
      "cell_type": "code",
      "metadata": {
        "id": "Doo-hBd0zdQr",
        "colab_type": "code",
        "colab": {}
      },
      "source": [
        ""
      ],
      "execution_count": 0,
      "outputs": []
    },
    {
      "cell_type": "markdown",
      "metadata": {
        "id": "P8WlSVM1FJVc",
        "colab_type": "text"
      },
      "source": [
        "## Crosstab of general class and Archetype distribution in my tests"
      ]
    },
    {
      "cell_type": "markdown",
      "metadata": {
        "id": "UaQCvEsaFS0u",
        "colab_type": "text"
      },
      "source": [
        "taking a look at class distribution, we can infer many different things, What classes are not being played that frequently? Why are they not being played as often? Is there a prefered Deck Archetype for a certain class? "
      ]
    },
    {
      "cell_type": "code",
      "metadata": {
        "id": "JI9v_uiaObEo",
        "colab_type": "code",
        "outputId": "892ab96f-82bf-443f-cc92-d7e932a3d304",
        "colab": {
          "base_uri": "https://localhost:8080/",
          "height": 390
        }
      },
      "source": [
        "meta = pd.crosstab(hsdat.opponent_class,hsdat.opponent_deck_archetype, margins=True)\n",
        "meta"
      ],
      "execution_count": 0,
      "outputs": [
        {
          "output_type": "execute_result",
          "data": {
            "text/html": [
              "<div>\n",
              "<style scoped>\n",
              "    .dataframe tbody tr th:only-of-type {\n",
              "        vertical-align: middle;\n",
              "    }\n",
              "\n",
              "    .dataframe tbody tr th {\n",
              "        vertical-align: top;\n",
              "    }\n",
              "\n",
              "    .dataframe thead th {\n",
              "        text-align: right;\n",
              "    }\n",
              "</style>\n",
              "<table border=\"1\" class=\"dataframe\">\n",
              "  <thead>\n",
              "    <tr style=\"text-align: right;\">\n",
              "      <th>opponent_deck_archetype</th>\n",
              "      <th>0</th>\n",
              "      <th>1</th>\n",
              "      <th>2</th>\n",
              "      <th>3</th>\n",
              "      <th>4</th>\n",
              "      <th>5</th>\n",
              "      <th>6</th>\n",
              "      <th>7</th>\n",
              "      <th>8</th>\n",
              "      <th>10</th>\n",
              "      <th>11</th>\n",
              "      <th>12</th>\n",
              "      <th>All</th>\n",
              "    </tr>\n",
              "    <tr>\n",
              "      <th>opponent_class</th>\n",
              "      <th></th>\n",
              "      <th></th>\n",
              "      <th></th>\n",
              "      <th></th>\n",
              "      <th></th>\n",
              "      <th></th>\n",
              "      <th></th>\n",
              "      <th></th>\n",
              "      <th></th>\n",
              "      <th></th>\n",
              "      <th></th>\n",
              "      <th></th>\n",
              "      <th></th>\n",
              "    </tr>\n",
              "  </thead>\n",
              "  <tbody>\n",
              "    <tr>\n",
              "      <th>0</th>\n",
              "      <td>7</td>\n",
              "      <td>5</td>\n",
              "      <td>0</td>\n",
              "      <td>1</td>\n",
              "      <td>1</td>\n",
              "      <td>0</td>\n",
              "      <td>1</td>\n",
              "      <td>3</td>\n",
              "      <td>0</td>\n",
              "      <td>0</td>\n",
              "      <td>0</td>\n",
              "      <td>5</td>\n",
              "      <td>23</td>\n",
              "    </tr>\n",
              "    <tr>\n",
              "      <th>1</th>\n",
              "      <td>12</td>\n",
              "      <td>3</td>\n",
              "      <td>0</td>\n",
              "      <td>0</td>\n",
              "      <td>0</td>\n",
              "      <td>0</td>\n",
              "      <td>1</td>\n",
              "      <td>2</td>\n",
              "      <td>0</td>\n",
              "      <td>0</td>\n",
              "      <td>0</td>\n",
              "      <td>10</td>\n",
              "      <td>28</td>\n",
              "    </tr>\n",
              "    <tr>\n",
              "      <th>2</th>\n",
              "      <td>6</td>\n",
              "      <td>12</td>\n",
              "      <td>1</td>\n",
              "      <td>0</td>\n",
              "      <td>3</td>\n",
              "      <td>0</td>\n",
              "      <td>0</td>\n",
              "      <td>0</td>\n",
              "      <td>0</td>\n",
              "      <td>1</td>\n",
              "      <td>0</td>\n",
              "      <td>1</td>\n",
              "      <td>24</td>\n",
              "    </tr>\n",
              "    <tr>\n",
              "      <th>3</th>\n",
              "      <td>0</td>\n",
              "      <td>1</td>\n",
              "      <td>0</td>\n",
              "      <td>3</td>\n",
              "      <td>1</td>\n",
              "      <td>0</td>\n",
              "      <td>1</td>\n",
              "      <td>1</td>\n",
              "      <td>1</td>\n",
              "      <td>2</td>\n",
              "      <td>2</td>\n",
              "      <td>4</td>\n",
              "      <td>16</td>\n",
              "    </tr>\n",
              "    <tr>\n",
              "      <th>4</th>\n",
              "      <td>2</td>\n",
              "      <td>7</td>\n",
              "      <td>0</td>\n",
              "      <td>0</td>\n",
              "      <td>2</td>\n",
              "      <td>0</td>\n",
              "      <td>1</td>\n",
              "      <td>0</td>\n",
              "      <td>0</td>\n",
              "      <td>0</td>\n",
              "      <td>2</td>\n",
              "      <td>8</td>\n",
              "      <td>22</td>\n",
              "    </tr>\n",
              "    <tr>\n",
              "      <th>5</th>\n",
              "      <td>6</td>\n",
              "      <td>0</td>\n",
              "      <td>2</td>\n",
              "      <td>3</td>\n",
              "      <td>2</td>\n",
              "      <td>1</td>\n",
              "      <td>3</td>\n",
              "      <td>2</td>\n",
              "      <td>0</td>\n",
              "      <td>0</td>\n",
              "      <td>0</td>\n",
              "      <td>1</td>\n",
              "      <td>20</td>\n",
              "    </tr>\n",
              "    <tr>\n",
              "      <th>6</th>\n",
              "      <td>7</td>\n",
              "      <td>1</td>\n",
              "      <td>0</td>\n",
              "      <td>0</td>\n",
              "      <td>0</td>\n",
              "      <td>0</td>\n",
              "      <td>2</td>\n",
              "      <td>0</td>\n",
              "      <td>1</td>\n",
              "      <td>0</td>\n",
              "      <td>1</td>\n",
              "      <td>5</td>\n",
              "      <td>17</td>\n",
              "    </tr>\n",
              "    <tr>\n",
              "      <th>7</th>\n",
              "      <td>2</td>\n",
              "      <td>4</td>\n",
              "      <td>1</td>\n",
              "      <td>1</td>\n",
              "      <td>2</td>\n",
              "      <td>3</td>\n",
              "      <td>2</td>\n",
              "      <td>4</td>\n",
              "      <td>0</td>\n",
              "      <td>0</td>\n",
              "      <td>6</td>\n",
              "      <td>2</td>\n",
              "      <td>27</td>\n",
              "    </tr>\n",
              "    <tr>\n",
              "      <th>8</th>\n",
              "      <td>3</td>\n",
              "      <td>6</td>\n",
              "      <td>0</td>\n",
              "      <td>0</td>\n",
              "      <td>1</td>\n",
              "      <td>0</td>\n",
              "      <td>0</td>\n",
              "      <td>1</td>\n",
              "      <td>0</td>\n",
              "      <td>7</td>\n",
              "      <td>1</td>\n",
              "      <td>3</td>\n",
              "      <td>22</td>\n",
              "    </tr>\n",
              "    <tr>\n",
              "      <th>All</th>\n",
              "      <td>45</td>\n",
              "      <td>39</td>\n",
              "      <td>4</td>\n",
              "      <td>8</td>\n",
              "      <td>12</td>\n",
              "      <td>4</td>\n",
              "      <td>11</td>\n",
              "      <td>13</td>\n",
              "      <td>2</td>\n",
              "      <td>10</td>\n",
              "      <td>12</td>\n",
              "      <td>39</td>\n",
              "      <td>199</td>\n",
              "    </tr>\n",
              "  </tbody>\n",
              "</table>\n",
              "</div>"
            ],
            "text/plain": [
              "opponent_deck_archetype   0   1  2  3   4  5   6   7  8  10  11  12  All\n",
              "opponent_class                                                          \n",
              "0                         7   5  0  1   1  0   1   3  0   0   0   5   23\n",
              "1                        12   3  0  0   0  0   1   2  0   0   0  10   28\n",
              "2                         6  12  1  0   3  0   0   0  0   1   0   1   24\n",
              "3                         0   1  0  3   1  0   1   1  1   2   2   4   16\n",
              "4                         2   7  0  0   2  0   1   0  0   0   2   8   22\n",
              "5                         6   0  2  3   2  1   3   2  0   0   0   1   20\n",
              "6                         7   1  0  0   0  0   2   0  1   0   1   5   17\n",
              "7                         2   4  1  1   2  3   2   4  0   0   6   2   27\n",
              "8                         3   6  0  0   1  0   0   1  0   7   1   3   22\n",
              "All                      45  39  4  8  12  4  11  13  2  10  12  39  199"
            ]
          },
          "metadata": {
            "tags": []
          },
          "execution_count": 31
        }
      ]
    },
    {
      "cell_type": "markdown",
      "metadata": {
        "id": "z2vIHb9hAPAs",
        "colab_type": "text"
      },
      "source": [
        "## Below shows a countplot for each of the various archetypes played.\n",
        "\n",
        "One thing to note is that we can see that Aggro is the most played class type from my testing, with a tie between quest and control"
      ]
    },
    {
      "cell_type": "code",
      "metadata": {
        "id": "QP6lPUpIAKCO",
        "colab_type": "code",
        "outputId": "615b3171-c122-43c5-81f8-fee47ecd05c6",
        "colab": {
          "base_uri": "https://localhost:8080/",
          "height": 285
        }
      },
      "source": [
        "x = hsdat['opponent_deck_archetype']\n",
        "sns.set(style=\"whitegrid\")\n",
        "hsdatst = sns.countplot(x)\n"
      ],
      "execution_count": 0,
      "outputs": [
        {
          "output_type": "display_data",
          "data": {
            "image/png": "[encoded data removed]",
            "text/plain": [
              "<Figure size 432x288 with 1 Axes>"
            ]
          },
          "metadata": {
            "tags": []
          }
        }
      ]
    },
    {
      "cell_type": "code",
      "metadata": {
        "id": "_XVfc5ijgbEE",
        "colab_type": "code",
        "colab": {}
      },
      "source": [
        ""
      ],
      "execution_count": 0,
      "outputs": []
    },
    {
      "cell_type": "markdown",
      "metadata": {
        "id": "tTGZZRcXIcDs",
        "colab_type": "text"
      },
      "source": [
        "## Druid's Meta"
      ]
    },
    {
      "cell_type": "markdown",
      "metadata": {
        "id": "kptup-D1QQxk",
        "colab_type": "text"
      },
      "source": [
        "### Druid was my overall worse matchup seen in the general winrates above in this document. Using a countplot, we're able to see what is the most played Druid Archetype, and we can see how well my deck preforms against against them\n"
      ]
    },
    {
      "cell_type": "markdown",
      "metadata": {
        "id": "gqRsMKf5QyS7",
        "colab_type": "text"
      },
      "source": [
        "### From the above countplot, we can see that Aggro is the most played Druid class in my tests. This most likely due to the many different high value low mana cards they have, for example:\n",
        "![alt text](https://gamepedia.cursecdn.com/hearthstone_gamepedia/thumb/6/60/BEEEES%21%21%21%2890708%29.png/200px-BEEEES%21%21%21%2890708%29.png?version=42673b41903449f5b5dc8fadd5a0a096)![alt text](https://gamepedia.cursecdn.com/hearthstone_gamepedia/thumb/f/f0/Soul_of_the_Forest%28311%29.png/200px-Soul_of_the_Forest%28311%29.png?version=cfab2b9c1f68139bf7ec6e1f316db1f6)\n",
        "![alt text](https://gamepedia.cursecdn.com/hearthstone_gamepedia/thumb/c/c2/Blessing_of_the_Ancients%2890645%29.png/200px-Blessing_of_the_Ancients%2890645%29.png?version=ca16740e669a5101559882aca188c9e6)\n",
        "\n",
        "\n",
        "---\n",
        "\n",
        "\n",
        "These cards that are fairly dominant, Which  gives aggro druid such force"
      ]
    },
    {
      "cell_type": "code",
      "metadata": {
        "id": "WV16y413IcZe",
        "colab_type": "code",
        "outputId": "1ca7da97-e619-4533-aa67-aeb07390eb17",
        "colab": {
          "base_uri": "https://localhost:8080/",
          "height": 285
        }
      },
      "source": [
        "druidarc = druid.filter(['opponent_class','opponent_deck_archetype','W/L'], axis=1)\n",
        "x = druidarc['opponent_deck_archetype']\n",
        "sns.set(style=\"whitegrid\")\n",
        "druidst = sns.countplot(x)\n",
        "\n"
      ],
      "execution_count": 0,
      "outputs": [
        {
          "output_type": "display_data",
          "data": {
            "image/png": "[encoded data removed]",
            "text/plain": [
              "<Figure size 432x288 with 1 Axes>"
            ]
          },
          "metadata": {
            "tags": []
          }
        }
      ]
    },
    {
      "cell_type": "code",
      "metadata": {
        "id": "WytFw0e0Qxpj",
        "colab_type": "code",
        "colab": {}
      },
      "source": [
        ""
      ],
      "execution_count": 0,
      "outputs": []
    },
    {
      "cell_type": "markdown",
      "metadata": {
        "id": "3X6J2mPqy535",
        "colab_type": "text"
      },
      "source": [
        "### Something that's interesting here is that against the meta deck for Druid, we are able to see that my deck did well against it with a 85.7% winrate. This means that my struggles with Druid comes from the various other played Archetypes "
      ]
    },
    {
      "cell_type": "code",
      "metadata": {
        "id": "jGM8VFByPq9v",
        "colab_type": "code",
        "outputId": "5b5d19ef-ef9c-4db3-9f8b-ff059f55cefb",
        "colab": {
          "base_uri": "https://localhost:8080/",
          "height": 68
        }
      },
      "source": [
        "druidaggro= druidarc[druidarc.opponent_deck_archetype == 0]\n",
        "druidaggro['W/L'].value_counts(normalize=True) * 100\n"
      ],
      "execution_count": 0,
      "outputs": [
        {
          "output_type": "execute_result",
          "data": {
            "text/plain": [
              "1    85.714286\n",
              "0    14.285714\n",
              "Name: W/L, dtype: float64"
            ]
          },
          "metadata": {
            "tags": []
          },
          "execution_count": 34
        }
      ]
    },
    {
      "cell_type": "markdown",
      "metadata": {
        "id": "2D5KB5xd1vI_",
        "colab_type": "text"
      },
      "source": [
        "### My worst matchups from my tests were 1 ( Control) and 12 (Quest) decks. Although for 3 ( Token\\Lackey), 4 (Combo/OTK), and 6 (Tempo), I have not gone against them enough to gather conclusive data for winrates against them. however, I am able to state that due to their low playrates in the standard it's clear they're outliers of the meta. Which means while although my winrate against them can be can not be concluded, my chances of encountering them are slim, as individually I had encountered them 1 out of 199 matches. "
      ]
    },
    {
      "cell_type": "code",
      "metadata": {
        "id": "Xzaa8D2my4WH",
        "colab_type": "code",
        "outputId": "8018f4e1-ba70-4603-f310-6ccbc6fe9b28",
        "colab": {
          "base_uri": "https://localhost:8080/",
          "height": 68
        }
      },
      "source": [
        "druidaggro= druidarc[druidarc.opponent_deck_archetype == 1]\n",
        "druidaggro['W/L'].value_counts(normalize=True) * 100"
      ],
      "execution_count": 0,
      "outputs": [
        {
          "output_type": "execute_result",
          "data": {
            "text/plain": [
              "1    60.0\n",
              "0    40.0\n",
              "Name: W/L, dtype: float64"
            ]
          },
          "metadata": {
            "tags": []
          },
          "execution_count": 35
        }
      ]
    },
    {
      "cell_type": "markdown",
      "metadata": {
        "id": "zUB3l7W7y3q7",
        "colab_type": "text"
      },
      "source": [
        ""
      ]
    },
    {
      "cell_type": "code",
      "metadata": {
        "id": "3Qwd7sZ54Zuj",
        "colab_type": "code",
        "colab": {}
      },
      "source": [
        ""
      ],
      "execution_count": 0,
      "outputs": []
    },
    {
      "cell_type": "markdown",
      "metadata": {
        "id": "CSYe-Jxg4bI_",
        "colab_type": "text"
      },
      "source": [
        "##Hunter META - The Aggro Mainstay"
      ]
    },
    {
      "cell_type": "markdown",
      "metadata": {
        "id": "yxB7XzUD5XsJ",
        "colab_type": "text"
      },
      "source": [
        "### Hunter has always been an aggro mainstay in Hearthstone. It's fairly rare to see a deck for Hunter that isn't aggro. In a matter of fact the current iteration of quest hunter is a version of aggro that is slightly slower than the normal iteration to try and make up for their power fall off in the late game. \n",
        "\n",
        "![alt text](https://gamepedia.cursecdn.com/hearthstone_gamepedia/thumb/e/e0/Unleash_the_Hounds%28317%29.png/200px-Unleash_the_Hounds%28317%29.png?version=83f430729199f3e332965caf8d614bec)\n",
        "![alt text](https://gamepedia.cursecdn.com/hearthstone_gamepedia/thumb/3/35/Scavenging_Hyena%28279%29.png/200px-Scavenging_Hyena%28279%29.png?version=28e7add2d74deb23eca06af498a11149)\n",
        "\n",
        "---\n",
        "\n",
        "1/1 minions are strong early game, however they fall of quite fast, however since hounds are beast you can potentionally anti-aggro with scavenging hyena  and unleash the hounds to deal some big damage. Because you can only have 7 minions on the board at one time at most your scavenging hyena can become a 14/8 as early as round 4 in specific circumstances"
      ]
    },
    {
      "cell_type": "code",
      "metadata": {
        "id": "_N2J8Osl50-8",
        "colab_type": "code",
        "outputId": "18b5681b-2111-4949-8e3b-0f9e9dd06c88",
        "colab": {
          "base_uri": "https://localhost:8080/",
          "height": 285
        }
      },
      "source": [
        "hunterarc = hunter.filter(['opponent_class','opponent_deck_archetype','W/L'], axis=1)\n",
        "x = hunter['opponent_deck_archetype']\n",
        "sns.set(style=\"whitegrid\")\n",
        "hunterst = sns.countplot(x)\n"
      ],
      "execution_count": 0,
      "outputs": [
        {
          "output_type": "display_data",
          "data": {
            "image/png": "[encoded data removed]",
            "text/plain": [
              "<Figure size 432x288 with 1 Axes>"
            ]
          },
          "metadata": {
            "tags": []
          }
        }
      ]
    },
    {
      "cell_type": "code",
      "metadata": {
        "id": "Zxc146ZB6vva",
        "colab_type": "code",
        "outputId": "0c24070f-ca10-42ce-e841-a2d17031db36",
        "colab": {
          "base_uri": "https://localhost:8080/",
          "height": 68
        }
      },
      "source": [
        "hunteraggro= hunter[hunterarc.opponent_deck_archetype == 1]\n",
        "hunteraggro['W/L'].value_counts(normalize=True) * 100"
      ],
      "execution_count": 0,
      "outputs": [
        {
          "output_type": "execute_result",
          "data": {
            "text/plain": [
              "0    66.666667\n",
              "1    33.333333\n",
              "Name: W/L, dtype: float64"
            ]
          },
          "metadata": {
            "tags": []
          },
          "execution_count": 37
        }
      ]
    },
    {
      "cell_type": "code",
      "metadata": {
        "id": "TqTWgz9B9iAq",
        "colab_type": "code",
        "outputId": "6249c153-a313-4b26-f969-bda5094b629e",
        "colab": {
          "base_uri": "https://localhost:8080/",
          "height": 68
        }
      },
      "source": [
        "hunteraggro= hunter[hunterarc.opponent_deck_archetype == 12]\n",
        "hunteraggro['W/L'].value_counts(normalize=True) * 100"
      ],
      "execution_count": 0,
      "outputs": [
        {
          "output_type": "execute_result",
          "data": {
            "text/plain": [
              "1    70.0\n",
              "0    30.0\n",
              "Name: W/L, dtype: float64"
            ]
          },
          "metadata": {
            "tags": []
          },
          "execution_count": 38
        }
      ]
    },
    {
      "cell_type": "markdown",
      "metadata": {
        "id": "lEKcCoMZ-6Ay",
        "colab_type": "text"
      },
      "source": [
        "## Mage META"
      ]
    },
    {
      "cell_type": "markdown",
      "metadata": {
        "id": "yPwON61PA-PE",
        "colab_type": "text"
      },
      "source": [
        "As a long time Mage player,  I already had a feeling control qas going to be the leading archetype for the class. Many of the spells that go to mage support a very control heavy class that have strong board clears, removals, and stalls.\n",
        "\n",
        "![alt text](https://gamepedia.cursecdn.com/hearthstone_gamepedia/thumb/7/76/Naga_Sand_Witch%2890820%29.png/200px-Naga_Sand_Witch%2890820%29.png?version=ca9cfb5b015516e583ffe5bbe2459791)\n",
        "![alt text](https://gamepedia.cursecdn.com/hearthstone_gamepedia/thumb/4/40/Counterspell%28531%29.png/200px-Counterspell%28531%29.png?version=a579e2064009dd26473395742885c424)\n",
        "![alt text](https://gamepedia.cursecdn.com/hearthstone_gamepedia/thumb/7/73/Pyroblast%28496%29.png/200px-Pyroblast%28496%29.png?version=4a5654832f05c622cc66156e081d5d2e)"
      ]
    },
    {
      "cell_type": "code",
      "metadata": {
        "id": "EUjLAgPE-5ND",
        "colab_type": "code",
        "outputId": "05e8b930-b507-4957-e1b0-b87f8e343168",
        "colab": {
          "base_uri": "https://localhost:8080/",
          "height": 285
        }
      },
      "source": [
        "magearc = mage.filter(['opponent_class','opponent_deck_archetype','W/L'], axis=1)\n",
        "x = mage['opponent_deck_archetype']\n",
        "sns.set(style=\"whitegrid\")\n",
        "magest = sns.countplot(x)"
      ],
      "execution_count": 0,
      "outputs": [
        {
          "output_type": "display_data",
          "data": {
            "image/png": "[encoded data removed]",
            "text/plain": [
              "<Figure size 432x288 with 1 Axes>"
            ]
          },
          "metadata": {
            "tags": []
          }
        }
      ]
    },
    {
      "cell_type": "markdown",
      "metadata": {
        "id": "lIfYky6JCZT-",
        "colab_type": "text"
      },
      "source": [
        "### While my deck is control as well, it has the ability to get key hitting power due to Luna's Poket Galaxy, allowing me to top deck any minion I get.\n",
        "\n"
      ]
    },
    {
      "cell_type": "code",
      "metadata": {
        "id": "sWgYtrNv_oAM",
        "colab_type": "code",
        "outputId": "3192361a-5968-42af-f124-97c3e2236a66",
        "colab": {
          "base_uri": "https://localhost:8080/",
          "height": 68
        }
      },
      "source": [
        "magecontrol= mage[magearc.opponent_deck_archetype == 1]\n",
        "magecontrol['W/L'].value_counts(normalize=True) * 100"
      ],
      "execution_count": 0,
      "outputs": [
        {
          "output_type": "execute_result",
          "data": {
            "text/plain": [
              "1    58.333333\n",
              "0    41.666667\n",
              "Name: W/L, dtype: float64"
            ]
          },
          "metadata": {
            "tags": []
          },
          "execution_count": 40
        }
      ]
    },
    {
      "cell_type": "markdown",
      "metadata": {
        "id": "-t6JQ81PEPiD",
        "colab_type": "text"
      },
      "source": [
        "## Paladin Meta"
      ]
    },
    {
      "cell_type": "markdown",
      "metadata": {
        "id": "xVCBndimEqGb",
        "colab_type": "text"
      },
      "source": [
        "### Why is quest is dominant in Paladin\n",
        "\n",
        "While in my tests it's clear so far that paladin has a lot of variability. However quest is slightly more important, because of emperor's wraps flexibility\n",
        "\n",
        "---\n",
        "\n",
        "\n",
        "![alt text](https://gamepedia.cursecdn.com/hearthstone_gamepedia/thumb/3/39/Making_Mummies%2890724%29.png/200px-Making_Mummies%2890724%29.png?version=3ab5db8b54fabdda5850efa29cbb204e)\n",
        "![alt text](https://gamepedia.cursecdn.com/hearthstone_gamepedia/thumb/3/35/Emperor_Wraps%2890725%29.png/200px-Emperor_Wraps%2890725%29.png?version=e74c8171402c693f244a3194ed949f98)\n",
        "![alt text](https://gamepedia.cursecdn.com/hearthstone_gamepedia/thumb/f/fc/Khartut_Defender%2890794%29.png/200px-Khartut_Defender%2890794%29.png?version=984fd715f826207e07772ffdf3491da3)"
      ]
    },
    {
      "cell_type": "markdown",
      "metadata": {
        "id": "u1EbLqZlgNGY",
        "colab_type": "text"
      },
      "source": [
        ""
      ]
    },
    {
      "cell_type": "code",
      "metadata": {
        "id": "IEHjb6F0_9qU",
        "colab_type": "code",
        "outputId": "6f110543-64ca-4121-8736-dcc8dc5ccca7",
        "colab": {
          "base_uri": "https://localhost:8080/",
          "height": 285
        }
      },
      "source": [
        "paladinarc = paladin.filter(['opponent_class','opponent_deck_archetype','W/L'], axis=1)\n",
        "x = paladin['opponent_deck_archetype']\n",
        "sns.set(style=\"whitegrid\")\n",
        "paladinst = sns.countplot(x)"
      ],
      "execution_count": 0,
      "outputs": [
        {
          "output_type": "display_data",
          "data": {
            "image/png": "[encoded data removed]",
            "text/plain": [
              "<Figure size 432x288 with 1 Axes>"
            ]
          },
          "metadata": {
            "tags": []
          }
        }
      ]
    },
    {
      "cell_type": "markdown",
      "metadata": {
        "id": "_SnF2fQdHNS8",
        "colab_type": "text"
      },
      "source": [
        "## Priest Meta"
      ]
    },
    {
      "cell_type": "markdown",
      "metadata": {
        "id": "dlp68HTvgVKS",
        "colab_type": "text"
      },
      "source": [
        "Quest priest and Control priest are very similar, however quest is a bit more complex but once mastered is so much more interesting"
      ]
    },
    {
      "cell_type": "code",
      "metadata": {
        "id": "8qcYcPpGEOns",
        "colab_type": "code",
        "outputId": "fe369d30-c963-4e93-b4c0-b462e208364f",
        "colab": {
          "base_uri": "https://localhost:8080/",
          "height": 285
        }
      },
      "source": [
        "priestarc = priest.filter(['opponent_class','opponent_deck_archetype','W/L'], axis=1)\n",
        "x = priest['opponent_deck_archetype']\n",
        "sns.set(style=\"whitegrid\")\n",
        "priestst = sns.countplot(x)"
      ],
      "execution_count": 0,
      "outputs": [
        {
          "output_type": "display_data",
          "data": {
            "image/png": "[encoded data removed]",
            "text/plain": [
              "<Figure size 432x288 with 1 Axes>"
            ]
          },
          "metadata": {
            "tags": []
          }
        }
      ]
    },
    {
      "cell_type": "markdown",
      "metadata": {
        "id": "Vou1ACycH4sr",
        "colab_type": "text"
      },
      "source": [
        "## Rogue META"
      ]
    },
    {
      "cell_type": "code",
      "metadata": {
        "id": "nucsAZSJIKF5",
        "colab_type": "code",
        "outputId": "c7593074-8bbf-41a4-e59f-2e67640087b1",
        "colab": {
          "base_uri": "https://localhost:8080/",
          "height": 285
        }
      },
      "source": [
        "roguearc = rogue.filter(['opponent_class','opponent_deck_archetype','W/L'], axis=1)\n",
        "x = rogue['opponent_deck_archetype']\n",
        "sns.set(style=\"whitegrid\")\n",
        "roguest = sns.countplot(x)"
      ],
      "execution_count": 0,
      "outputs": [
        {
          "output_type": "display_data",
          "data": {
            "image/png": "[encoded data removed]",
            "text/plain": [
              "<Figure size 432x288 with 1 Axes>"
            ]
          },
          "metadata": {
            "tags": []
          }
        }
      ]
    },
    {
      "cell_type": "markdown",
      "metadata": {
        "id": "-WIhiK-bISN5",
        "colab_type": "text"
      },
      "source": [
        "## Shaman META"
      ]
    },
    {
      "cell_type": "code",
      "metadata": {
        "id": "rbyIbKnsIcdl",
        "colab_type": "code",
        "outputId": "50a4298c-ac5b-4d58-82cb-048c5922fe0e",
        "colab": {
          "base_uri": "https://localhost:8080/",
          "height": 285
        }
      },
      "source": [
        "shamanarc = shaman.filter(['opponent_class','opponent_deck_archetype','W/L'], axis=1)\n",
        "x = shaman['opponent_deck_archetype']\n",
        "sns.set(style=\"whitegrid\")\n",
        "shamanst = sns.countplot(x)"
      ],
      "execution_count": 0,
      "outputs": [
        {
          "output_type": "display_data",
          "data": {
            "image/png": "[encoded data removed]",
            "text/plain": [
              "<Figure size 432x288 with 1 Axes>"
            ]
          },
          "metadata": {
            "tags": []
          }
        }
      ]
    },
    {
      "cell_type": "markdown",
      "metadata": {
        "id": "meyHQgowIV-m",
        "colab_type": "text"
      },
      "source": [
        "## Warlock META"
      ]
    },
    {
      "cell_type": "code",
      "metadata": {
        "id": "ixhlqWXAJSRK",
        "colab_type": "code",
        "outputId": "a3b82cda-b8e5-47f9-e97c-8d009dd8eba1",
        "colab": {
          "base_uri": "https://localhost:8080/",
          "height": 285
        }
      },
      "source": [
        "warlockarc = warlock.filter(['opponent_class','opponent_deck_archetype','W/L'], axis=1)\n",
        "x = warlock['opponent_deck_archetype']\n",
        "sns.set(style=\"whitegrid\")\n",
        "warlockst = sns.countplot(x)"
      ],
      "execution_count": 0,
      "outputs": [
        {
          "output_type": "display_data",
          "data": {
            "image/png": "[encoded data removed]",
            "text/plain": [
              "<Figure size 432x288 with 1 Axes>"
            ]
          },
          "metadata": {
            "tags": []
          }
        }
      ]
    },
    {
      "cell_type": "markdown",
      "metadata": {
        "id": "eY3zy79kJjyT",
        "colab_type": "text"
      },
      "source": [
        "## Warrior META"
      ]
    },
    {
      "cell_type": "code",
      "metadata": {
        "id": "x7reJXeDJwgV",
        "colab_type": "code",
        "outputId": "002af09c-26f4-472e-88a2-008bae17135d",
        "colab": {
          "base_uri": "https://localhost:8080/",
          "height": 285
        }
      },
      "source": [
        "warriorarc = warrior.filter(['opponent_class','opponent_deck_archetype','W/L'], axis=1)\n",
        "x = warrior['opponent_deck_archetype']\n",
        "sns.set(style=\"whitegrid\")\n",
        "warriorst = sns.countplot(x)"
      ],
      "execution_count": 0,
      "outputs": [
        {
          "output_type": "display_data",
          "data": {
            "image/png": "[encoded data removed]",
            "text/plain": [
              "<Figure size 432x288 with 1 Axes>"
            ]
          },
          "metadata": {
            "tags": []
          }
        }
      ]
    },
    {
      "cell_type": "code",
      "metadata": {
        "id": "EGmsjwGFKRod",
        "colab_type": "code",
        "colab": {}
      },
      "source": [
        ""
      ],
      "execution_count": 0,
      "outputs": []
    },
    {
      "cell_type": "markdown",
      "metadata": {
        "id": "xiaI6mh8KSKD",
        "colab_type": "text"
      },
      "source": [
        ""
      ]
    },
    {
      "cell_type": "code",
      "metadata": {
        "id": "Ty6ex8QVOS8Z",
        "colab_type": "code",
        "colab": {}
      },
      "source": [
        ""
      ],
      "execution_count": 0,
      "outputs": []
    },
    {
      "cell_type": "markdown",
      "metadata": {
        "id": "_CI3SCT3OjLg",
        "colab_type": "text"
      },
      "source": [
        "# Turns and why we track them\n",
        "\n",
        "Turns are a super important thing to keep track of. A lot of things happen at the start of a turn, for example, if your maximum mana is below 10, it goes up by 1 tick and refreshes (EX: **3** maximum mana last turn, this turn you have **4** maximum mana), You also draw a card from the top of your deck. \n",
        "\n",
        "This is also so important because it's impossible for a deck to be efficent in every turn, which is why certain archetypes like Aggro and Control exist. Aggro wants to win as a fast as possible, which means the deck is built to win **BEFORE you reach turn 10**, while control decks are made to **win PAST turn 10**. My deck is a **CONTROL DECK** made to win past turn 10."
      ]
    },
    {
      "cell_type": "markdown",
      "metadata": {
        "id": "Q_2Xau5oTGVM",
        "colab_type": "text"
      },
      "source": [
        "## Below is my matches with a turn count of 10 or higher's winrate, with my ideal hand- 63.6%"
      ]
    },
    {
      "cell_type": "code",
      "metadata": {
        "id": "glgn6N0IRLS4",
        "colab_type": "code",
        "outputId": "555687ff-ebdb-4ae0-ad78-9112701ac0ec",
        "colab": {
          "base_uri": "https://localhost:8080/",
          "height": 68
        }
      },
      "source": [
        "good_hand_turns = good_hand[good_hand.Turns  >= 10]\n",
        "good_hand_turns['W/L'].value_counts(normalize=True) * 100"
      ],
      "execution_count": 0,
      "outputs": [
        {
          "output_type": "execute_result",
          "data": {
            "text/plain": [
              "1    63.636364\n",
              "0    36.363636\n",
              "Name: W/L, dtype: float64"
            ]
          },
          "metadata": {
            "tags": []
          },
          "execution_count": 47
        }
      ]
    },
    {
      "cell_type": "markdown",
      "metadata": {
        "id": "ZLpiKni3VEBH",
        "colab_type": "text"
      },
      "source": [
        "## Below is my matches with a turn count of 9 or less' winrate, with my ideal hand - 50%"
      ]
    },
    {
      "cell_type": "code",
      "metadata": {
        "id": "ewo5t6_9VIvD",
        "colab_type": "code",
        "outputId": "80edc898-05b2-43e4-b924-e18b0c05029c",
        "colab": {
          "base_uri": "https://localhost:8080/",
          "height": 68
        }
      },
      "source": [
        "good1_hand_turns = good_hand[good_hand.Turns  <= 9]\n",
        "good1_hand_turns['W/L'].value_counts(normalize=True) * 100"
      ],
      "execution_count": 0,
      "outputs": [
        {
          "output_type": "execute_result",
          "data": {
            "text/plain": [
              "1    50.0\n",
              "0    50.0\n",
              "Name: W/L, dtype: float64"
            ]
          },
          "metadata": {
            "tags": []
          },
          "execution_count": 48
        }
      ]
    },
    {
      "cell_type": "code",
      "metadata": {
        "id": "gTG7GIY2lgN1",
        "colab_type": "code",
        "outputId": "cd227549-b4f6-4a1b-ee97-c5903d8e7d87",
        "colab": {
          "base_uri": "https://localhost:8080/",
          "height": 68
        }
      },
      "source": [
        "good_hand['W/L'].value_counts(normalize=True) * 100"
      ],
      "execution_count": 0,
      "outputs": [
        {
          "output_type": "execute_result",
          "data": {
            "text/plain": [
              "1    58.823529\n",
              "0    41.176471\n",
              "Name: W/L, dtype: float64"
            ]
          },
          "metadata": {
            "tags": []
          },
          "execution_count": 49
        }
      ]
    },
    {
      "cell_type": "markdown",
      "metadata": {
        "id": "7TBpiHLxVmiV",
        "colab_type": "text"
      },
      "source": [
        "## Below is my matches with a turn count of 10 or higher's winrate, with a **NON**-ideal hand - 54.8%"
      ]
    },
    {
      "cell_type": "code",
      "metadata": {
        "id": "FdM5vkkYVwzu",
        "colab_type": "code",
        "outputId": "c6d3957b-5e44-4493-ecc0-e36d3872b829",
        "colab": {
          "base_uri": "https://localhost:8080/",
          "height": 68
        }
      },
      "source": [
        "bad_hand_turns = bad_hand[bad_hand.Turns  >= 10]\n",
        "bad_hand_turns['W/L'].value_counts(normalize=True) * 100"
      ],
      "execution_count": 0,
      "outputs": [
        {
          "output_type": "execute_result",
          "data": {
            "text/plain": [
              "1    54.782609\n",
              "0    45.217391\n",
              "Name: W/L, dtype: float64"
            ]
          },
          "metadata": {
            "tags": []
          },
          "execution_count": 50
        }
      ]
    },
    {
      "cell_type": "markdown",
      "metadata": {
        "id": "tpeCDCZvWWZN",
        "colab_type": "text"
      },
      "source": [
        "## Below is my matches with a turn count of 9 or less' winrate, with a **NON**-ideal hand - 52%"
      ]
    },
    {
      "cell_type": "code",
      "metadata": {
        "id": "aKjK2tK1WgUh",
        "colab_type": "code",
        "outputId": "ffe8849d-46b3-4fac-88d4-f5129e0e8373",
        "colab": {
          "base_uri": "https://localhost:8080/",
          "height": 68
        }
      },
      "source": [
        "bad_hand_turns = bad_hand[bad_hand.Turns  <= 9]\n",
        "bad_hand_turns['W/L'].value_counts(normalize=True) * 100"
      ],
      "execution_count": 0,
      "outputs": [
        {
          "output_type": "execute_result",
          "data": {
            "text/plain": [
              "0    52.0\n",
              "1    48.0\n",
              "Name: W/L, dtype: float64"
            ]
          },
          "metadata": {
            "tags": []
          },
          "execution_count": 51
        }
      ]
    },
    {
      "cell_type": "code",
      "metadata": {
        "id": "MYzjtm0ulRJM",
        "colab_type": "code",
        "outputId": "7a295e29-d084-4259-9516-f4e35bc4123a",
        "colab": {
          "base_uri": "https://localhost:8080/",
          "height": 68
        }
      },
      "source": [
        "bad_hand['W/L'].value_counts(normalize=True) * 100"
      ],
      "execution_count": 0,
      "outputs": [
        {
          "output_type": "execute_result",
          "data": {
            "text/plain": [
              "1    52.727273\n",
              "0    47.272727\n",
              "Name: W/L, dtype: float64"
            ]
          },
          "metadata": {
            "tags": []
          },
          "execution_count": 52
        }
      ]
    },
    {
      "cell_type": "markdown",
      "metadata": {
        "id": "Q_pbQB2JYuVw",
        "colab_type": "text"
      },
      "source": [
        "## Winrates based off Ideal hand and turns\n"
      ]
    },
    {
      "cell_type": "code",
      "metadata": {
        "id": "VY1v50q0WsZn",
        "colab_type": "code",
        "outputId": "ebc1e6c8-8172-43ed-a839-2dec02c25a2b",
        "colab": {
          "base_uri": "https://localhost:8080/",
          "height": 293
        }
      },
      "source": [
        "labels = ['Ideal', 'Non_Ideal', 'Overall']\n",
        "good_means = [63.6, 54.8,58.8]\n",
        "bad_means = [50, 52, 52.7]\n",
        "\n",
        "x = np.arange(len(labels))  # the label locations\n",
        "width = 0.35  # the width of the bars\n",
        "\n",
        "\n",
        "fig, ax = plt.subplots()\n",
        "rects1 = ax.bar(x - width/2, good_means, width, label='10 and above turns')\n",
        "rects2 = ax.bar(x + width/2, bad_means, width, label='9 and below turns')\n",
        "\n",
        "\n",
        "ax.set_ylabel('Percentage')\n",
        "ax.set_title('Winrates based on ideal hands and turn counts')\n",
        "ax.set_xticks(x)\n",
        "ax.set_xticklabels(labels)\n",
        "ax.legend()\n",
        "ax.set_ylim([0,100])\n",
        "\n",
        "\n",
        "def autolabel(rects):\n",
        "    \"\"\"Attach a text label above each bar in *rects*, displaying its height.\"\"\"\n",
        "    for rect in rects:\n",
        "        height = rect.get_height()\n",
        "        ax.annotate('{}'.format(height),\n",
        "                    xy=(rect.get_x() + rect.get_width() / 2, height),\n",
        "                    xytext=(0, 3),\n",
        "                    textcoords=\"offset points\",\n",
        "                    ha='center', va='bottom')\n",
        "\n",
        "\n",
        "autolabel(rects1)\n",
        "autolabel(rects2)\n",
        "\n",
        "fig.tight_layout()\n",
        "\n",
        "plt.show()"
      ],
      "execution_count": 0,
      "outputs": [
        {
          "output_type": "display_data",
          "data": {
            "image/png": "[encoded data removed]",
            "text/plain": [
              "<Figure size 432x288 with 1 Axes>"
            ]
          },
          "metadata": {
            "tags": []
          }
        }
      ]
    },
    {
      "cell_type": "code",
      "metadata": {
        "id": "KRTlrgeqbAsR",
        "colab_type": "code",
        "colab": {}
      },
      "source": [
        ""
      ],
      "execution_count": 0,
      "outputs": []
    },
    {
      "cell_type": "markdown",
      "metadata": {
        "id": "1_5_22ida4JU",
        "colab_type": "text"
      },
      "source": [
        "# **Conclusion**"
      ]
    },
    {
      "cell_type": "markdown",
      "metadata": {
        "id": "muTO3vbnbADT",
        "colab_type": "text"
      },
      "source": [
        "## My deck ended up being much more efficent overall, garnering a postive winrate in most situations, with no general weak point or strong point."
      ]
    }
  ]
}